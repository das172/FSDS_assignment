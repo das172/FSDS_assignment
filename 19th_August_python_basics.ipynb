{
 "cells": [
  {
   "cell_type": "markdown",
   "id": "16297d74-6fcb-43af-a218-0d58aeabfdb6",
   "metadata": {},
   "source": [
    "1. Declare two variables, `x` and `y`, and assign them integer values.\n",
    "Swap the values of these variables without using any temporary\n",
    "variable."
   ]
  },
  {
   "cell_type": "code",
   "execution_count": 2,
   "id": "4f80e013-a55f-499f-a7e3-db770ff185fc",
   "metadata": {},
   "outputs": [],
   "source": [
    "x = 4\n",
    "y = 10"
   ]
  },
  {
   "cell_type": "code",
   "execution_count": 3,
   "id": "59bd8cee-bab9-43ee-872f-7dc16ed54d50",
   "metadata": {},
   "outputs": [],
   "source": [
    "x = x + y  # x=14\n",
    "y = x - y  # y=4\n",
    "x = x - y  # x=10"
   ]
  },
  {
   "cell_type": "code",
   "execution_count": 6,
   "id": "91b12d37-f4da-493c-882d-c4d6d2bbf5cd",
   "metadata": {},
   "outputs": [
    {
     "name": "stdout",
     "output_type": "stream",
     "text": [
      "After swapping:\n",
      "x = 10\n",
      "y = 4\n"
     ]
    }
   ],
   "source": [
    "#as per the  arithmetic operation ,we get\n",
    " print(\"After swapping:\")\n",
    " print(\"x =\", x)\n",
    " print(\"y =\", y)"
   ]
  },
  {
   "cell_type": "markdown",
   "id": "8bd8fcff-c318-43c1-87ea-7057f6706231",
   "metadata": {},
   "source": [
    "2.Create a program that calculates the area of a rectangle. Take the\n",
    "length and width as inputs from the user and store them in variables.\n",
    "Calculate and display the area."
   ]
  },
  {
   "cell_type": "code",
   "execution_count": 8,
   "id": "be5c86ce-b657-4e5d-9881-e37a99b15068",
   "metadata": {},
   "outputs": [
    {
     "name": "stdin",
     "output_type": "stream",
     "text": [
      "Enter the length of the rectangle:  12\n",
      "Enter the width of the rectangle:  12\n"
     ]
    }
   ],
   "source": [
    "length = float(input(\"Enter the length of the rectangle: \")) #taking input from user\n",
    "width = float(input(\"Enter the width of the rectangle: \"))  #\n",
    "\n"
   ]
  },
  {
   "cell_type": "code",
   "execution_count": 9,
   "id": "a28837a1-60bc-4f02-b8f1-dac80d67e0dc",
   "metadata": {},
   "outputs": [
    {
     "name": "stdout",
     "output_type": "stream",
     "text": [
      "The area of the rectangle is: 144.0\n"
     ]
    }
   ],
   "source": [
    "area = length * width # formula for the area \n",
    "#area calculated\n",
    "print(\"The area of the rectangle is:\", area)"
   ]
  },
  {
   "cell_type": "markdown",
   "id": "d08ee41f-8756-413c-9fd4-a477afe8bbb1",
   "metadata": {},
   "source": [
    "3.Write a Python program that converts temperature from Celsius to\n",
    "Fahrenheit. Take the temperature in Celsius as input, store it in a\n",
    "variable, convert it to Fahrenheit, and display the result."
   ]
  },
  {
   "cell_type": "code",
   "execution_count": 10,
   "id": "8a4f9f2c-eb25-47a5-9921-09131d2ac2db",
   "metadata": {},
   "outputs": [
    {
     "name": "stdin",
     "output_type": "stream",
     "text": [
      "enter temperature in Celsius:  60\n"
     ]
    },
    {
     "name": "stdout",
     "output_type": "stream",
     "text": [
      "temperature in Fahrenheit: 140.0\n"
     ]
    }
   ],
   "source": [
    "celsius = float(input(\"enter temperature in Celsius: \")) #input from the user\n",
    "fahrenheit = (celsius * 9/5) + 32   # formula to convert celsius to fareinheit\n",
    "print(\"temperature in Fahrenheit:\", fahrenheit)"
   ]
  },
  {
   "cell_type": "code",
   "execution_count": null,
   "id": "f5d87596-3338-4f27-81d5-3445d804a59b",
   "metadata": {},
   "outputs": [],
   "source": []
  },
  {
   "cell_type": "markdown",
   "id": "9db7d0b1-dc0c-4431-8655-be03697dd779",
   "metadata": {},
   "source": [
    "1. Write a Python program that takes a string as input and prints the\n",
    "length of the string."
   ]
  },
  {
   "cell_type": "code",
   "execution_count": 16,
   "id": "f2e1f9e0-408c-49fc-91df-f6a260f7f4c8",
   "metadata": {},
   "outputs": [
    {
     "name": "stdin",
     "output_type": "stream",
     "text": [
      "Enter a string:  ede\n"
     ]
    },
    {
     "name": "stdout",
     "output_type": "stream",
     "text": [
      "length of the string: 3\n"
     ]
    }
   ],
   "source": [
    "input_str=input(\"Enter a string: \") #user input\n",
    "length_ofstr=len(input_str)\n",
    "print(\"length of the string:\", length_ofstr)\n"
   ]
  },
  {
   "cell_type": "markdown",
   "id": "22347558-30d7-4b4e-99ba-20738fdfea3a",
   "metadata": {},
   "source": [
    "2.Create a program that takes a sentence from the user and counts the\n",
    "number of vowels (a, e, i, o, u) in the string."
   ]
  },
  {
   "cell_type": "code",
   "execution_count": 20,
   "id": "d560d17c-e0b5-4900-b262-a65e1ab65b88",
   "metadata": {},
   "outputs": [
    {
     "name": "stdin",
     "output_type": "stream",
     "text": [
      "enter the line  rreqwqwqwqwwqwqwqwq\n"
     ]
    },
    {
     "name": "stdout",
     "output_type": "stream",
     "text": [
      "Number of vowels in the line: 1\n"
     ]
    }
   ],
   "source": [
    "line= input(\"enter the line \")\n",
    "\n",
    "#cconverting the sentence to lowercase to make the counting case-insensitive\n",
    "line= line.lower()\n",
    "# Counting using count method\n",
    "vowel_count=line.count(\"a\")+line.count(\"e\") + line.count(\"i\") + line.count(\"o\") + line.count(\"u\")\n",
    "print(\"Number of vowels in the line:\", vowel_count)\n"
   ]
  },
  {
   "cell_type": "markdown",
   "id": "6a0ad182-76a7-4e24-96f8-13882e7f05c5",
   "metadata": {},
   "source": [
    "3.Given a string, reverse the order of characters using string slicing and\n",
    "print the reversed string."
   ]
  },
  {
   "cell_type": "code",
   "execution_count": 25,
   "id": "29fee9dd-de5d-49a1-8cb3-b3020551441f",
   "metadata": {},
   "outputs": [
    {
     "name": "stdin",
     "output_type": "stream",
     "text": [
      "Enter a string:  ehpuh\n"
     ]
    },
    {
     "name": "stdout",
     "output_type": "stream",
     "text": [
      "Reversed string: huphe\n"
     ]
    }
   ],
   "source": [
    "input_str=input(\"Enter a string: \")\n",
    "reversed_str=input_str[::-1] ## Reversing by using string slicing\n",
    "print(\"Reversed string:\",reversed_str)\n"
   ]
  },
  {
   "cell_type": "markdown",
   "id": "2260da91-37ad-4b32-b2de-3e2016c9d286",
   "metadata": {},
   "source": [
    "\n",
    "4.Write a program that takes a string as input and checks if it is a\n",
    "palindrome (reads the same forwards and backwards)."
   ]
  },
  {
   "cell_type": "code",
   "execution_count": 24,
   "id": "42d96b12-843f-48b1-ae4e-3eb42013b4d0",
   "metadata": {},
   "outputs": [
    {
     "name": "stdin",
     "output_type": "stream",
     "text": [
      "Enter a string:  10101010101\n"
     ]
    },
    {
     "name": "stdout",
     "output_type": "stream",
     "text": [
      "The string is a palindrome\n"
     ]
    }
   ],
   "source": [
    "input_str = input(\"Enter a string: \")\n",
    "reversed_string = input_str[::-1]\n",
    "if input_str == reversed_string: #checking whether they are same or not\n",
    "    print(\"The string is a palindrome\")\n",
    "else:\n",
    "    print(\"The string is not a palindrom\")\n"
   ]
  },
  {
   "cell_type": "code",
   "execution_count": null,
   "id": "f424669a-9a6f-4b18-b2e4-31904c80b24f",
   "metadata": {},
   "outputs": [],
   "source": []
  },
  {
   "cell_type": "code",
   "execution_count": 26,
   "id": "23bdb15b-2b7f-491a-b1eb-c43b4d3469fc",
   "metadata": {},
   "outputs": [
    {
     "name": "stdin",
     "output_type": "stream",
     "text": [
      "Enter a string:  wdedis wnw\n"
     ]
    },
    {
     "name": "stdout",
     "output_type": "stream",
     "text": [
      "Modified string without spaces: wdediswnw\n"
     ]
    }
   ],
   "source": [
    "# Taking input from the user\n",
    "input_string = input(\"Enter a string: \")\n",
    "\n",
    "# Removing spaces from the string\n",
    "modified_string = input_string.replace(\" \", \"\") \n",
    "\n",
    "# Displaying the modified string without spaces\n",
    "print(\"Modified string without spaces:\", modified_string)\n"
   ]
  },
  {
   "cell_type": "code",
   "execution_count": null,
   "id": "981d6310-7e5f-4eb6-b59a-5782bdda9817",
   "metadata": {},
   "outputs": [],
   "source": []
  }
 ],
 "metadata": {
  "kernelspec": {
   "display_name": "Python 3 (ipykernel)",
   "language": "python",
   "name": "python3"
  },
  "language_info": {
   "codemirror_mode": {
    "name": "ipython",
    "version": 3
   },
   "file_extension": ".py",
   "mimetype": "text/x-python",
   "name": "python",
   "nbconvert_exporter": "python",
   "pygments_lexer": "ipython3",
   "version": "3.10.8"
  }
 },
 "nbformat": 4,
 "nbformat_minor": 5
}
